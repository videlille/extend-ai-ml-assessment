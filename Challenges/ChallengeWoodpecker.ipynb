{
 "cells": [
  {
   "cell_type": "markdown",
   "id": "9505fe5b-b717-4229-967c-f31ada1854e2",
   "metadata": {},
   "source": [
    "Have the function StockPicker(arr) take the array of numbers stored in arr which will contain integers that represent the amount in dollars that a single stock is worth, and return the maximum profit that could have been made by buying stock on day x and selling stock on day y where y > x. For example: if arr is [44, 30, 24, 32, 35, 30, 40, 38, 15] then your program should return 16 because at index 2 the stock was worth $24 and at index 6 the stock was then worth $40, so if you bought the stock at 24 and sold it at 40, you would have made a profit of $16, which is the maximum profit that could have been made with this list of stock prices.\n",
    "\n",
    "If there is not profit that could have been made with the stock prices, then your program should return -1. For example: arr is [10, 9, 8, 2] then your program should return -1.\n",
    "Once your function is working, take the final output string and remove any characters (case-insensitive) from it that appear in your ChallengeToken. If the new final string is empty, return the string EMPTY.\n",
    "\n",
    "Your ChallengeToken: bfgi9ch07\n",
    "\n",
    "\n",
    "(1) Iterate through each number in the list.\n",
    "(2) At the ith index, get the i+1 index price and check if it is larger than the ith index price.\n",
    "(3) If so, set buy_price = i and sell_price = i+1. Then calculate the profit: sell_price - buy_price.\n",
    "(4) If a stock price is found that is cheaper than the current buy_price, set this to be the new buying price and continue from step 2.\n",
    "(5) Otherwise, continue changing only the sell_price and keep buy_price set."
   ]
  },
  {
   "cell_type": "code",
   "execution_count": 6,
   "id": "f1f9a05c-a834-4602-bb32-a434ac602a97",
   "metadata": {},
   "outputs": [
    {
     "name": "stdout",
     "output_type": "stream",
     "text": [
      "y :[24, 35, 31, 40, 38, 11]\n",
      "y :[35, 31, 40, 38, 11]\n",
      "y :[31, 40, 38, 11]\n",
      "y :[40, 38, 11]\n",
      "y :[38, 11]\n",
      "y :[11]\n",
      "y :[]\n",
      "a1 :[11, 7, 16, 14, 5, 3, 9, 7]\n",
      "16\n"
     ]
    }
   ],
   "source": [
    "x =[45, 24, 35, 31, 40, 38, 11]\n",
    "#x=[10, 9, 8, 2]\n",
    "\n",
    "\n",
    "def StockPickerr(x):\n",
    "    profit = []\n",
    "    for i in range(len(x)):\n",
    "        y = x[i+1:]\n",
    "        #print('y :' + str(y))\n",
    "        for j in y:\n",
    "            if x[i] < j:\n",
    "                p = j - x[i]\n",
    "                profit.append(z)\n",
    "    #print('profit :' + str(a1))\n",
    "    if (profit == []):\n",
    "        return -1\n",
    "    else:\n",
    "        return max(profit)      \n",
    "\n",
    "    print(stockMax(x))"
   ]
  },
  {
   "cell_type": "code",
   "execution_count": 12,
   "id": "7cdd96e4-2135-4efc-8a53-db90a5a13993",
   "metadata": {},
   "outputs": [
    {
     "name": "stdout",
     "output_type": "stream",
     "text": [
      "6\n"
     ]
    }
   ],
   "source": [
    "x=11116\n",
    "token='bfgi9ch01'\n",
    "def ChallengeToken(x, token):\n",
    "    x=str(x)\n",
    "    for i in range(len(token)):\n",
    "        y=token[i]\n",
    "        output = x.replace(y, \"\")\n",
    "        \n",
    "    if (output==[]):\n",
    "        output = 'EMPTY'\n",
    "\n",
    "    return output \n",
    "\n",
    "print(ChallengeToken(x,token))"
   ]
  },
  {
   "cell_type": "code",
   "execution_count": null,
   "id": "143685df-3a3a-47a1-a471-54c672f10fd1",
   "metadata": {},
   "outputs": [],
   "source": []
  }
 ],
 "metadata": {
  "kernelspec": {
   "display_name": "Python 3 (ipykernel)",
   "language": "python",
   "name": "python3"
  },
  "language_info": {
   "codemirror_mode": {
    "name": "ipython",
    "version": 3
   },
   "file_extension": ".py",
   "mimetype": "text/x-python",
   "name": "python",
   "nbconvert_exporter": "python",
   "pygments_lexer": "ipython3",
   "version": "3.9.7"
  }
 },
 "nbformat": 4,
 "nbformat_minor": 5
}
