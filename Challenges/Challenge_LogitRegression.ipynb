{
 "cells": [
  {
   "cell_type": "code",
   "execution_count": null,
   "id": "84253d5e-6739-4247-b2b7-164b9297f98d",
   "metadata": {},
   "outputs": [],
   "source": []
  },
  {
   "cell_type": "code",
   "execution_count": 2,
   "id": "c65c782d-c6d4-44fc-83e9-db4f40d69f32",
   "metadata": {},
   "outputs": [],
   "source": [
    "# Import the required libraries\n",
    "import numpy as np\n",
    "import pandas as pd\n",
    "import seaborn as sns"
   ]
  },
  {
   "cell_type": "code",
   "execution_count": null,
   "id": "c640b221-738f-4632-92bb-c5b7d3ca8cc6",
   "metadata": {},
   "outputs": [],
   "source": []
  },
  {
   "cell_type": "code",
   "execution_count": 125,
   "id": "40cdfcd1-4c2b-4d42-bda3-a909affacf42",
   "metadata": {},
   "outputs": [],
   "source": [
    "def optimize(x, y, a0, b0, learning_rate,iterations): \n",
    "    def sigmoid(input):    \n",
    "        output = 1 / (1 + np.exp(-input))\n",
    "        return output\n",
    "    \n",
    "    a = a0\n",
    "    b = b0\n",
    "    for i in range(iterations): \n",
    "        sigma = sigmoid((x*a) + b)\n",
    "        loss = -1 * np.sum(y * np.log(sigma)) + (1 - y) * np.log(1-sigma)\n",
    "        da = (x* (sigma - y))\n",
    "        db = sigma - y\n",
    "        a -= learning_rate * da\n",
    "        b -= learning_rate * db \n",
    "    \n",
    "    af = a\n",
    "    bf = b\n",
    "    return af, bf\n",
    "\n"
   ]
  },
  {
   "cell_type": "code",
   "execution_count": 126,
   "id": "ec82442f-c847-4ef7-af43-b5d8de6e0224",
   "metadata": {},
   "outputs": [
    {
     "name": "stdout",
     "output_type": "stream",
     "text": [
      "1.1192029220221178 1.1192029220221178\n"
     ]
    }
   ],
   "source": [
    "# Train the model\n",
    "x=1\n",
    "y=1\n",
    "a0=1\n",
    "b0=1\n",
    "\n",
    "af, bf  = optimize(x, y, a0, b0, learning_rate=1, iterations=1 )\n",
    "print(str(af), str(bf))"
   ]
  },
  {
   "cell_type": "code",
   "execution_count": null,
   "id": "37a34058-d40a-43ec-8c62-b09bf56741cc",
   "metadata": {},
   "outputs": [],
   "source": [
    "\n",
    "\n"
   ]
  },
  {
   "cell_type": "code",
   "execution_count": null,
   "id": "7209fd08-43cb-459a-b97d-0a6b5d08e382",
   "metadata": {},
   "outputs": [],
   "source": []
  },
  {
   "cell_type": "code",
   "execution_count": null,
   "id": "9f97aa7c-4243-4986-ab55-818da1e4d801",
   "metadata": {},
   "outputs": [],
   "source": []
  },
  {
   "cell_type": "code",
   "execution_count": 127,
   "id": "0fdd5ecb-4c3a-48b0-96cc-76f8b52fff86",
   "metadata": {},
   "outputs": [],
   "source": [
    "#Again"
   ]
  },
  {
   "cell_type": "code",
   "execution_count": null,
   "id": "591e11c9-ddb0-40ee-af25-c95d4b6423d4",
   "metadata": {},
   "outputs": [],
   "source": []
  },
  {
   "cell_type": "code",
   "execution_count": null,
   "id": "1748973f-1266-47cf-85ea-69f2a66162b7",
   "metadata": {},
   "outputs": [],
   "source": [
    "import numpy as np\n",
    "\n",
    "\n",
    "def LogitRegression(x, y, a, b):\n",
    "\n",
    "  # Define the sigmoid function\n",
    "  def sigmoid(input):  \n",
    "    output = 1 / (1 + np.exp(- input))\n",
    "    return output\n",
    "  \n",
    "  sigma=sigmoid((x*a)+b)\n",
    "  print(sigma)\n",
    "  loss= -1 * np.sum(y * np.log(sigma)) + (1 - y) * np.log(1-sigma)\n",
    "  da = (x* (sigma - y))\n",
    "  db = sigma - y\n",
    "  print(da)\n",
    "  print(db)\n",
    "  a -= 1 * da\n",
    "  b -= 1 * db \n",
    "\n",
    "  return a , b\n",
    "x=2\n",
    "y=0\n",
    "a=5.1\n",
    "b=5.7\n",
    "\n",
    "\n",
    "# I'm a bit ocnfused because the output example for [1,1,1,1] is 0.881 but \n",
    "#this value corresponds to yhat with yhat = 1.0 / (1.0 + exp(-ax - b)) with a=b=1\n",
    "# keep this function call here \n",
    "print(LogitRegression(input()))"
   ]
  },
  {
   "cell_type": "code",
   "execution_count": null,
   "id": "03d18016-3663-4710-8cb4-1f814c62002c",
   "metadata": {},
   "outputs": [],
   "source": []
  },
  {
   "cell_type": "code",
   "execution_count": null,
   "id": "6d4c92fb-58df-4640-b326-1987ec4e4c01",
   "metadata": {},
   "outputs": [],
   "source": []
  },
  {
   "cell_type": "code",
   "execution_count": null,
   "id": "b49414ff-b56e-4114-b11e-a877d8874758",
   "metadata": {},
   "outputs": [],
   "source": []
  }
 ],
 "metadata": {
  "kernelspec": {
   "display_name": "Python 3 (ipykernel)",
   "language": "python",
   "name": "python3"
  },
  "language_info": {
   "codemirror_mode": {
    "name": "ipython",
    "version": 3
   },
   "file_extension": ".py",
   "mimetype": "text/x-python",
   "name": "python",
   "nbconvert_exporter": "python",
   "pygments_lexer": "ipython3",
   "version": "3.9.7"
  }
 },
 "nbformat": 4,
 "nbformat_minor": 5
}
