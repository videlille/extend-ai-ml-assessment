{
 "cells": [
  {
   "cell_type": "code",
   "execution_count": null,
   "id": "eab03bb8-d3b8-496a-90ee-21c296475040",
   "metadata": {},
   "outputs": [],
   "source": []
  },
  {
   "cell_type": "code",
   "execution_count": null,
   "id": "c37f55cd-bb28-4d1e-b005-671b4aa96bca",
   "metadata": {},
   "outputs": [],
   "source": []
  },
  {
   "cell_type": "code",
   "execution_count": null,
   "id": "ce319b10-cdae-41dc-bc5b-7d4a4e9ab245",
   "metadata": {},
   "outputs": [],
   "source": []
  },
  {
   "cell_type": "markdown",
   "id": "7585f2be-eab7-4c57-825a-39a354de9634",
   "metadata": {},
   "source": [
    "Python Standard Deviations\n",
    "In the Python file, write a program to perform a GET request on the route https://coderbyte.com/api/challenges/json/list-numbers which contains a data key and the value is an array of numbers. Your program should calculcate the standard deviation of the list of numbers (rounded to the nearest whole number), and then again with the two large outlier numbers removed. Then finally print each standard deviation separated by a space.\n",
    "\n",
    "Example Input\n",
    "1, 2, 3, 4, 5, 6, 10, 100, 200\n",
    "\n",
    "Example Output\n",
    "65 3\n",
    "Browse Resources"
   ]
  },
  {
   "cell_type": "code",
   "execution_count": null,
   "id": "3cc75158-ab69-4dd2-9950-2e122fc0769e",
   "metadata": {},
   "outputs": [],
   "source": []
  },
  {
   "cell_type": "code",
   "execution_count": null,
   "id": "dbda34ef-d386-489f-85a0-05f08d5670cf",
   "metadata": {},
   "outputs": [],
   "source": []
  },
  {
   "cell_type": "code",
   "execution_count": 1,
   "id": "0574c682-ad27-4926-8361-1b38f52f8a93",
   "metadata": {},
   "outputs": [
    {
     "name": "stdout",
     "output_type": "stream",
     "text": [
      "[10, 12, 23, 23, 16, 3242342, 23, 21, 16, 45, 100, 2, 4, 6, 10, 200, 34, 1123, 12, 14, 5, 3, 66, 12, 6, 3, 1, 3, 2224234]\n"
     ]
    }
   ],
   "source": [
    "import requests\n",
    "import numpy as np\n",
    "import pandas as pd\n",
    "\n",
    "r = requests.get('https://coderbyte.com/api/challenges/json/list-numbers')\n",
    "print(r.json()['data'])"
   ]
  },
  {
   "cell_type": "code",
   "execution_count": 23,
   "id": "1b6f1788-c69c-42c0-a830-57e0e92881b4",
   "metadata": {},
   "outputs": [
    {
     "name": "stdout",
     "output_type": "stream",
     "text": [
      "[10, 12, 23, 23, 16, 3242342, 23, 21, 16, 45, 100, 2, 4, 6, 10, 200, 34, 1123, 12, 14, 5, 3, 66, 12, 6, 3, 1, 3, 2224234]\n",
      "29\n"
     ]
    }
   ],
   "source": [
    "list_number=r.json()['data']\n",
    "print(list_number)\n",
    "print(len(list_number))"
   ]
  },
  {
   "cell_type": "code",
   "execution_count": 24,
   "id": "0a11fb25-32d3-4b66-a37d-fd980ed6f20b",
   "metadata": {},
   "outputs": [],
   "source": [
    "list_mean=np.mean(list_number, axis=0)\n",
    "list_std =np.std(list_number, axis=0)"
   ]
  },
  {
   "cell_type": "code",
   "execution_count": 25,
   "id": "fed53055-12c2-4c4c-946e-a5b0b1f2c151",
   "metadata": {},
   "outputs": [
    {
     "name": "stdout",
     "output_type": "stream",
     "text": [
      "188564.44827586206\n",
      "705370.0391172823\n"
     ]
    }
   ],
   "source": [
    "print(list_mean)\n",
    "print(list_std)"
   ]
  },
  {
   "cell_type": "code",
   "execution_count": 26,
   "id": "f9f425a0-6d87-47b6-98e3-a490eee54a29",
   "metadata": {},
   "outputs": [],
   "source": [
    "# Remove the two max"
   ]
  },
  {
   "cell_type": "code",
   "execution_count": 31,
   "id": "c1e35103-18fa-4c8b-8a9e-5c738f1981b5",
   "metadata": {},
   "outputs": [],
   "source": [
    "list2_number = list_number\n",
    "list2_number.remove(max(list2_number))\n",
    "list2_number.remove(max(list2_number))\n",
    "#list2_number = list_number.remove(max(list_number))"
   ]
  },
  {
   "cell_type": "code",
   "execution_count": 32,
   "id": "a45b983c-ff11-4b8d-bef4-81f35e108a15",
   "metadata": {},
   "outputs": [
    {
     "name": "stdout",
     "output_type": "stream",
     "text": [
      "[10, 12, 23, 23, 16, 23, 21, 16, 45, 100, 2, 4, 6, 10, 200, 34, 12, 14, 5, 3, 66, 12, 6, 3, 1, 3]\n",
      "26\n",
      "[10, 12, 23, 23, 16, 23, 21, 16, 45, 100, 2, 4, 6, 10, 200, 34, 12, 14, 5, 3, 66, 12, 6, 3, 1, 3]\n"
     ]
    }
   ],
   "source": [
    "print(list_number)\n",
    "print(len(list_number))\n",
    "print(list2_number)\n"
   ]
  },
  {
   "cell_type": "code",
   "execution_count": 36,
   "id": "6409b092-bea6-4122-b6cb-5766bf0f5857",
   "metadata": {},
   "outputs": [
    {
     "name": "stdout",
     "output_type": "stream",
     "text": [
      "25.76923076923077\n",
      "41.036857441074275\n"
     ]
    }
   ],
   "source": [
    "list2_mean=np.mean(list2_number, axis=0)\n",
    "list2_std =np.std(list2_number, axis=0)\n",
    "\n",
    "print(list2_mean)\n",
    "print(list2_std)"
   ]
  },
  {
   "cell_type": "code",
   "execution_count": 38,
   "id": "459ade88-9511-4373-834d-0c721d584e98",
   "metadata": {},
   "outputs": [
    {
     "name": "stdout",
     "output_type": "stream",
     "text": [
      "705370 41\n"
     ]
    }
   ],
   "source": [
    "a = [round(list_std),round(list2_std) ]\n",
    "print(' '.join(map(str, a))) "
   ]
  },
  {
   "cell_type": "code",
   "execution_count": null,
   "id": "c657b46e-6187-4b4e-8f52-f7cbf64cb6e8",
   "metadata": {},
   "outputs": [],
   "source": []
  }
 ],
 "metadata": {
  "kernelspec": {
   "display_name": "Python 3 (ipykernel)",
   "language": "python",
   "name": "python3"
  },
  "language_info": {
   "codemirror_mode": {
    "name": "ipython",
    "version": 3
   },
   "file_extension": ".py",
   "mimetype": "text/x-python",
   "name": "python",
   "nbconvert_exporter": "python",
   "pygments_lexer": "ipython3",
   "version": "3.9.7"
  }
 },
 "nbformat": 4,
 "nbformat_minor": 5
}
