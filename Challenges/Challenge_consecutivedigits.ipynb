{
 "cells": [
  {
   "cell_type": "code",
   "execution_count": null,
   "id": "ab02db82-0556-49be-9b6e-618fdfc5569f",
   "metadata": {},
   "outputs": [],
   "source": []
  },
  {
   "cell_type": "markdown",
   "id": "981d4467-ec6b-4aa1-9f64-66f7ce11929f",
   "metadata": {},
   "source": [
    "Number Stream\n",
    "\n",
    "\n",
    "Have the function NumberStream(str) take the str parameter being passed which will contain the numbers 2 through 9, and determine if there is a consecutive stream of digits of at least N length where N is the actual digit value. If so, return the string true, otherwise return the string false. For example: if str is \"6539923335\" then your program should return the string true because there is a consecutive stream of 3's of length 3. The input string will always contain at least one digit."
   ]
  },
  {
   "cell_type": "markdown",
   "id": "1d1fe525-2e94-4d92-8713-57129384f645",
   "metadata": {},
   "source": [
    "Input: \"5556293383563665\"\n",
    "Output: false\n",
    "Input: \"5788888888882339999\"\n",
    "Output: true"
   ]
  },
  {
   "cell_type": "code",
   "execution_count": 1,
   "id": "9d3e105a-26d7-4db6-ab53-d287fdf05baa",
   "metadata": {},
   "outputs": [],
   "source": [
    "import re\n"
   ]
  },
  {
   "cell_type": "code",
   "execution_count": 2,
   "id": "9cdb2ab9-5b89-47e5-afa6-8d83df556055",
   "metadata": {},
   "outputs": [
    {
     "name": "stdout",
     "output_type": "stream",
     "text": [
      "found word:cat\n"
     ]
    }
   ],
   "source": [
    "stri = 'an example word:cat!!'\n",
    "match = re.search(r'word:\\w\\w\\w', stri)\n",
    "# If-statement after search() tests if it succeeded\n",
    "if match:\n",
    "  print('found', match.group()) ## 'found word:cat'\n",
    "else:\n",
    "  print('did not find')"
   ]
  },
  {
   "cell_type": "code",
   "execution_count": null,
   "id": "ea66b74f-71db-45ed-8337-84f6c8faf5f7",
   "metadata": {},
   "outputs": [],
   "source": []
  },
  {
   "cell_type": "code",
   "execution_count": 4,
   "id": "6789fd57-0193-49c5-8713-4a9c8b81c7c0",
   "metadata": {},
   "outputs": [
    {
     "name": "stdout",
     "output_type": "stream",
     "text": [
      "True\n"
     ]
    }
   ],
   "source": [
    "\n",
    "# Python3 Program to Create list \n",
    "# with integers within given range \n",
    "  \n",
    "def checkConsecutive(l):\n",
    "    return sorted(l) == list(range(min(l), max(l)+1))\n",
    "      \n",
    "# Driver Code\n",
    "lst = [2, 3, 1, 4, 5]\n",
    "\n",
    "print(checkConsecutive(lst))"
   ]
  },
  {
   "cell_type": "code",
   "execution_count": 17,
   "id": "8d6ca309-aa4e-40b9-8b3b-3e5a2a851ac4",
   "metadata": {},
   "outputs": [
    {
     "name": "stdout",
     "output_type": "stream",
     "text": [
      "0\n",
      "1\n",
      "2\n",
      "3\n",
      "4\n",
      "5\n",
      "6\n",
      "7\n",
      "8\n",
      "9\n",
      "10\n",
      "11\n",
      "12\n",
      "13\n",
      "14\n",
      "15\n",
      "16\n",
      "17\n"
     ]
    }
   ],
   "source": []
  },
  {
   "cell_type": "code",
   "execution_count": 40,
   "id": "a58d1498-8df6-4032-8497-26bd4bbd2e46",
   "metadata": {},
   "outputs": [
    {
     "name": "stdout",
     "output_type": "stream",
     "text": [
      "The original string is : 5556293383563665\n",
      "K : 5\n",
      "b\n",
      "b\n",
      "b\n",
      "b\n",
      "K : 5\n",
      "b\n",
      "b\n",
      "b\n",
      "K : 5\n",
      "b\n",
      "b\n",
      "K : 6\n",
      "b\n",
      "b\n",
      "K : 2\n",
      "b\n",
      "b\n",
      "K : 9\n",
      "b\n",
      "b\n",
      "K : 3\n",
      "b\n",
      "b\n",
      "b\n",
      "K : 3\n",
      "b\n",
      "b\n",
      "K : 8\n",
      "b\n",
      "b\n",
      "K : 3\n",
      "b\n",
      "b\n",
      "K : 5\n",
      "b\n",
      "b\n",
      "K : 6\n",
      "Yeaaah\n",
      "True\n"
     ]
    }
   ],
   "source": [
    "# initializing string\n",
    "test_str = \"5556293383563665\"\n",
    "#test_str = \"5788888888882339999\"   # 19\n",
    "  \n",
    "# printing original string\n",
    "print(\"The original string is : \" + str(test_str))\n",
    "\n",
    "  \n",
    "# using loop to run through characters \n",
    "res = \"\"\n",
    "for idx in range(len(test_str)-1):\n",
    "        K=int(test_str[idx])\n",
    "        print(\"K : \" + str(K))\n",
    "        is_same = True\n",
    "          \n",
    "        # check for valid number of consecutives\n",
    "        for j in range(K): \n",
    "            if (idx + K) < (len(test_str) +1)  : #& is_same\n",
    "                print('b')\n",
    "                is_same = is_same & (test_str[idx + j]==str(K)) \n",
    "                if is_same == False:\n",
    "                    break\n",
    "            else:\n",
    "                is_same == False\n",
    "                break \n",
    "                \n",
    "        # extracting numbers \n",
    "        if is_same :\n",
    "            print('Yeaaah')\n",
    "            break\n",
    "            #return is_same\n",
    "\n",
    "print(is_same)\n",
    "  \n"
   ]
  },
  {
   "cell_type": "code",
   "execution_count": null,
   "id": "20fcb080-9e56-4a4b-b483-0071c66eb3e6",
   "metadata": {},
   "outputs": [],
   "source": []
  }
 ],
 "metadata": {
  "kernelspec": {
   "display_name": "Python 3 (ipykernel)",
   "language": "python",
   "name": "python3"
  },
  "language_info": {
   "codemirror_mode": {
    "name": "ipython",
    "version": 3
   },
   "file_extension": ".py",
   "mimetype": "text/x-python",
   "name": "python",
   "nbconvert_exporter": "python",
   "pygments_lexer": "ipython3",
   "version": "3.9.7"
  }
 },
 "nbformat": 4,
 "nbformat_minor": 5
}
